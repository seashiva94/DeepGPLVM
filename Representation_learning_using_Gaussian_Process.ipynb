{
 "cells": [
  {
   "cell_type": "markdown",
   "metadata": {
    "colab_type": "text",
    "id": "ptNltFaosOE5"
   },
   "source": [
    "### GPflow"
   ]
  },
  {
   "cell_type": "code",
   "execution_count": null,
   "metadata": {
    "colab": {},
    "colab_type": "code",
    "id": "kczKeMMZsOFF"
   },
   "outputs": [],
   "source": [
    "from utils import *"
   ]
  },
  {
   "cell_type": "code",
   "execution_count": null,
   "metadata": {
    "colab": {
     "base_uri": "https://localhost:8080/",
     "height": 653
    },
    "colab_type": "code",
    "id": "7u9OliALsOFL",
    "outputId": "3d94c2fd-413e-4929-bc87-c79d3e173124"
   },
   "outputs": [],
   "source": [
    "data = np.loadtxt('data/DataTrn.txt')\n",
    "labels_ = np.loadtxt(\"data/DataTrnLbls.txt\")\n",
    "Y = data"
   ]
  },
  {
   "cell_type": "code",
   "execution_count": null,
   "metadata": {
    "colab": {},
    "colab_type": "code",
    "id": "JVMtdx6UsOFR",
    "outputId": "61c5be0a-1a54-4b00-8f61-b2e00bd36c99"
   },
   "outputs": [],
   "source": [
    "Q = 5\n",
    "M = 20 \n",
    "N = Y.shape[0]\n",
    "X_mean = gpflow.models.PCA_reduce(Y, Q)\n",
    "Z = np.random.permutation(X_mean.copy())[:M]\n",
    "\n",
    "fHmmm = False\n",
    "if(fHmmm):\n",
    "    k = (kernels.RBF(3, ARD=True, active_dims=slice(0,3)) +\n",
    "         kernels.Linear(2, ARD=False, active_dims=slice(3,5)))\n",
    "else:\n",
    "    k = (kernels.RBF(3, ARD=True, active_dims=[0,1,2]) +\n",
    "         kernels.Linear(2, ARD=False, active_dims=[3, 4]))\n",
    "\n",
    "m = gpflow.models.BayesianGPLVM(X_mean=X_mean, X_var=0.1*np.ones((N, Q)), Y=Y,\n",
    "                                kern=k, M=M, Z=Z)\n",
    "m.likelihood.variance = 0.01\n",
    "\n",
    "opt = gpflow.train.ScipyOptimizer()\n",
    "m.compile()\n",
    "opt.minimize(m, maxiter=gpflow.test_util.notebook_niter(10000))"
   ]
  },
  {
   "cell_type": "code",
   "execution_count": null,
   "metadata": {
    "colab": {},
    "colab_type": "code",
    "id": "Wr_fUbdZsOFZ",
    "outputId": "977092d5-2312-4fc9-c60a-ecb7b579ab26"
   },
   "outputs": [],
   "source": [
    "m.kern.as_pandas_table()"
   ]
  },
  {
   "cell_type": "code",
   "execution_count": null,
   "metadata": {
    "colab": {},
    "colab_type": "code",
    "id": "03NotzRxsOFg",
    "outputId": "4bf6f522-3d82-4542-c631-2cfb39de2e11"
   },
   "outputs": [],
   "source": [
    "kern = m.kern.kernels[0]\n",
    "sens = np.sqrt(kern.variance.read_value())/kern.lengthscales.read_value()\n",
    "print(sens)"
   ]
  },
  {
   "cell_type": "code",
   "execution_count": null,
   "metadata": {
    "colab": {},
    "colab_type": "code",
    "id": "OSUlpmUtsOFp",
    "outputId": "561fbce0-71e3-4cfd-9204-836e77ad1f84"
   },
   "outputs": [],
   "source": [
    "fig, ax = plt.subplots()\n",
    "dims = np.arange(len(sens))\n",
    "ax.bar(dims, sens, 0.1, color='y')\n",
    "ax.set_xticks(dims)\n",
    "ax.set_xlabel('dimension')\n",
    "ax.set_title('Sensitivity to latent inputs');"
   ]
  },
  {
   "cell_type": "code",
   "execution_count": null,
   "metadata": {
    "colab": {},
    "colab_type": "code",
    "id": "_X8HseHUsOFu"
   },
   "outputs": [],
   "source": [
    "dim1, dim2 = sens.argsort()[::-1][:2]  # the two dimensions with highest sensitivity"
   ]
  },
  {
   "cell_type": "code",
   "execution_count": null,
   "metadata": {
    "colab": {},
    "colab_type": "code",
    "id": "cwiLmQg9sOFy"
   },
   "outputs": [],
   "source": [
    "labels = [l.argmax() for l in labels_]"
   ]
  },
  {
   "cell_type": "code",
   "execution_count": null,
   "metadata": {
    "colab": {},
    "colab_type": "code",
    "id": "MM1HYa8lsOF9",
    "outputId": "0f0c2188-8df7-4cbe-e562-25611da08084"
   },
   "outputs": [],
   "source": [
    "XPCAplot = gpflow.models.PCA_reduce(Y, 2)\n",
    "GPLVM_X_mean = m.X_mean.read_value()\n",
    "\n",
    "f, ax = plt.subplots(1,2, figsize=(10,6))\n",
    "colors = cm.rainbow(np.linspace(0, 1, len(np.unique(labels))))\n",
    "\n",
    "for i, c in zip(np.unique(labels), colors):\n",
    "    ax[0].scatter(XPCAplot[labels==i, 0], XPCAplot[labels==i, 1], color=c, label=i)\n",
    "    ax[0].set_title('PCA')\n",
    "    ax[1].scatter(GPLVM_X_mean[labels==i, dim1], GPLVM_X_mean[labels==i, dim2], color=c, label=i)\n",
    "    ax[1].set_title('Bayesian GPLVM')\n",
    "plt.savefig(\"oil_pca_rep.png\")"
   ]
  },
  {
   "cell_type": "code",
   "execution_count": null,
   "metadata": {
    "colab": {},
    "colab_type": "code",
    "id": "sd4V9KUBsOGJ",
    "outputId": "5384b216-3cf2-44c1-bbe2-d5bd0bea446b",
    "scrolled": false
   },
   "outputs": [],
   "source": [
    "# reconstruction error based only on the mean predictions\n",
    "((m.predict_y(GPLVM_X_mean[:,:])[0] - Y[:,:])**2).sum(axis = 1).mean()"
   ]
  },
  {
   "cell_type": "markdown",
   "metadata": {
    "colab_type": "text",
    "id": "J-ss958qsOGu"
   },
   "source": [
    "### same on MNIST"
   ]
  },
  {
   "cell_type": "code",
   "execution_count": null,
   "metadata": {
    "colab": {
     "base_uri": "https://localhost:8080/",
     "height": 294
    },
    "colab_type": "code",
    "id": "IteepRA5sOG2",
    "outputId": "7e887ecf-3d28-4643-bbc4-7b9bba8ede33"
   },
   "outputs": [],
   "source": [
    "MNIST_train = torchvision.datasets.MNIST(root=root, train=True, transform=trans, download=True)\n",
    "MNIST_test  = torchvision.datasets.MNIST(root=root, train=False, transform=trans, download=True)"
   ]
  },
  {
   "cell_type": "code",
   "execution_count": null,
   "metadata": {
    "colab": {
     "base_uri": "https://localhost:8080/",
     "height": 287
    },
    "colab_type": "code",
    "id": "6qpHBFP7sOG5",
    "outputId": "4e7dac23-d6b3-45d9-ac83-58eab8f77a09"
   },
   "outputs": [],
   "source": [
    "plt.imshow(MNIST_train[0][0].reshape(28,28))"
   ]
  },
  {
   "cell_type": "code",
   "execution_count": null,
   "metadata": {
    "colab": {
     "base_uri": "https://localhost:8080/",
     "height": 287
    },
    "colab_type": "code",
    "id": "xb07xWxbsOG-",
    "outputId": "2899f6af-c34b-48ff-f01b-3a6a7c0c8ae0"
   },
   "outputs": [],
   "source": [
    "plt.imshow(MNIST_test[0][0].reshape(28,28)), MNIST_test[0][1]"
   ]
  },
  {
   "cell_type": "code",
   "execution_count": null,
   "metadata": {
    "colab": {
     "base_uri": "https://localhost:8080/",
     "height": 35
    },
    "colab_type": "code",
    "id": "JPeFYgw0sOHN",
    "outputId": "960e9876-e649-4cdf-80ce-27610fb2794b"
   },
   "outputs": [],
   "source": [
    " MNIST_train[0][1]"
   ]
  },
  {
   "cell_type": "code",
   "execution_count": null,
   "metadata": {
    "colab": {},
    "colab_type": "code",
    "id": "7kR4s9NwsOHR"
   },
   "outputs": [],
   "source": [
    "x = []\n",
    "labels = []\n",
    "for t, l in MNIST_train:\n",
    "    x.append(t.numpy().flatten())\n",
    "    labels.append(l)"
   ]
  },
  {
   "cell_type": "code",
   "execution_count": null,
   "metadata": {
    "colab": {},
    "colab_type": "code",
    "id": "_P2AlOWesOHT"
   },
   "outputs": [],
   "source": [
    "x = np.array(x)\n",
    "labels = np.array(labels)"
   ]
  },
  {
   "cell_type": "code",
   "execution_count": null,
   "metadata": {
    "colab": {
     "base_uri": "https://localhost:8080/",
     "height": 35
    },
    "colab_type": "code",
    "id": "HmzNdbJSsOHd",
    "outputId": "402c0116-51d4-4057-c578-9dcffb0139b8"
   },
   "outputs": [],
   "source": [
    "x.shape"
   ]
  },
  {
   "cell_type": "code",
   "execution_count": null,
   "metadata": {
    "colab": {
     "base_uri": "https://localhost:8080/",
     "height": 109
    },
    "colab_type": "code",
    "id": "4CSM9ayHsOHo",
    "outputId": "ea9928e5-0c6c-418c-9ae7-155d9576d764"
   },
   "outputs": [],
   "source": [
    "x_5 = None\n",
    "l_5 = []\n",
    "samples = 20\n",
    "for n in range(5):\n",
    "    d = x[np.where(labels == n)]\n",
    "    idxs = np.random.choice(range(d.shape[0]), samples)\n",
    "\n",
    "    print(d[idxs].shape)\n",
    "    if x_5 is None:\n",
    "        x_5 = d[idxs]\n",
    "    else:\n",
    "        x_5 = np.vstack((x_5, d[idxs]))\n",
    "    l_5 = np.hstack((l_5,n* np.ones(samples)))"
   ]
  },
  {
   "cell_type": "code",
   "execution_count": null,
   "metadata": {
    "colab": {},
    "colab_type": "code",
    "id": "dvHyPbTZk8uk"
   },
   "outputs": [],
   "source": [
    "x_5 = np.array(x_5)"
   ]
  },
  {
   "cell_type": "code",
   "execution_count": null,
   "metadata": {
    "colab": {
     "base_uri": "https://localhost:8080/",
     "height": 35
    },
    "colab_type": "code",
    "id": "oM9-7YsfsOHq",
    "outputId": "c5df60bb-d714-49e2-f376-518e165523b0"
   },
   "outputs": [],
   "source": [
    "Y = x_5.astype(np.float64)\n",
    "Y.shape"
   ]
  },
  {
   "cell_type": "code",
   "execution_count": null,
   "metadata": {
    "colab": {},
    "colab_type": "code",
    "id": "47VzBRfcsOHv"
   },
   "outputs": [],
   "source": [
    "del x"
   ]
  },
  {
   "cell_type": "code",
   "execution_count": null,
   "metadata": {
    "colab": {
     "base_uri": "https://localhost:8080/",
     "height": 219
    },
    "colab_type": "code",
    "id": "hRTHBFBAsOHy",
    "outputId": "65d5b61e-90ed-4f16-e50e-533b2aae0e62"
   },
   "outputs": [],
   "source": [
    "Q = 5\n",
    "M = 20\n",
    "N = Y.shape[0]\n",
    "X_mean = gpflow.models.PCA_reduce(Y, Q) \n",
    "Z = np.random.permutation(X_mean.copy())[:M]\n",
    "kernel_dim = 5\n",
    "\n",
    "k = kernels.RBF(kernel_dim, ARD=True, active_dims=slice(0,kernel_dim))\n",
    "m = gpflow.models.BayesianGPLVM(X_mean=X_mean, X_var=0.1*np.ones((N, Q)), Y=Y,\n",
    "                                kern=k, M=M, Z=Z)\n",
    "m.likelihood.variance = 0.01\n",
    "\n",
    "opt = gpflow.train.ScipyOptimizer()\n",
    "m.compile()\n",
    "opt.minimize(m, maxiter=gpflow.test_util.notebook_niter(500))\n",
    "print(\"done\")\n"
   ]
  },
  {
   "cell_type": "code",
   "execution_count": null,
   "metadata": {
    "colab": {
     "base_uri": "https://localhost:8080/",
     "height": 238
    },
    "colab_type": "code",
    "id": "8gaTKJHGwRTW",
    "outputId": "0189641c-8719-499a-9404-6d22ff73a73a"
   },
   "outputs": [],
   "source": [
    "m"
   ]
  },
  {
   "cell_type": "code",
   "execution_count": null,
   "metadata": {
    "colab": {
     "base_uri": "https://localhost:8080/",
     "height": 112
    },
    "colab_type": "code",
    "id": "3pc9CMTwsOH6",
    "outputId": "2ffd7b9a-d515-4d3b-bb37-f093b83eb4bd"
   },
   "outputs": [],
   "source": [
    "m.kern.as_pandas_table()"
   ]
  },
  {
   "cell_type": "code",
   "execution_count": null,
   "metadata": {
    "colab": {
     "base_uri": "https://localhost:8080/",
     "height": 35
    },
    "colab_type": "code",
    "id": "aLOEf7NbsOIC",
    "outputId": "0bc00610-d9ef-4393-e4ad-4e689038b75e"
   },
   "outputs": [],
   "source": [
    "kern = m.kern#.kernels[0]\n",
    "sens = np.sqrt(kern.variance.read_value())/kern.lengthscales.read_value()\n",
    "print(sens)"
   ]
  },
  {
   "cell_type": "code",
   "execution_count": null,
   "metadata": {
    "colab": {
     "base_uri": "https://localhost:8080/",
     "height": 295
    },
    "colab_type": "code",
    "id": "XP_UZqJ2sOIG",
    "outputId": "46877ebd-ba75-4eda-8fd7-d9855bb3bd3e"
   },
   "outputs": [],
   "source": [
    "fig, ax = plt.subplots()\n",
    "dims = np.arange(len(sens))\n",
    "ax.bar(dims, sens, 0.1, color='y')\n",
    "ax.set_xticks(dims)\n",
    "ax.set_xlabel('dimension')\n",
    "ax.set_title('Sensitivity to latent inputs');\n",
    "plt.savefig('mnist_1l_sens.png')"
   ]
  },
  {
   "cell_type": "code",
   "execution_count": null,
   "metadata": {
    "colab": {},
    "colab_type": "code",
    "id": "Km-Z0HxdsOIL"
   },
   "outputs": [],
   "source": [
    "dim1, dim2 = sens.argsort()[::-1][:2] "
   ]
  },
  {
   "cell_type": "code",
   "execution_count": null,
   "metadata": {
    "colab": {
     "base_uri": "https://localhost:8080/",
     "height": 390
    },
    "colab_type": "code",
    "id": "EBKaCqJdsOIZ",
    "outputId": "ef1d141e-8ae0-41cf-90a3-c00ff113290b"
   },
   "outputs": [],
   "source": [
    "XPCAplot = gpflow.models.PCA_reduce(Y, 2)\n",
    "GPLVM_X_mean = m.X_mean.read_value()\n",
    "\n",
    "f, ax = plt.subplots(1,2, figsize=(10,6))\n",
    "colors = cm.rainbow(np.linspace(0, 1, len(np.unique(l_5))))\n",
    "\n",
    "for i, c in zip(np.unique(labels), colors):\n",
    "    ax[0].scatter(XPCAplot[l_5==i, 0], XPCAplot[l_5==i, 1], color=c, label=i, alpha = 0.2)\n",
    "    ax[0].set_title('PCA')\n",
    "    ax[1].scatter(GPLVM_X_mean[l_5==i, dim1], GPLVM_X_mean[l_5==i, dim2], color=c, label=i, alpha = 0.2)\n",
    "    ax[1].set_title('Bayesian GPLVM')\n",
    "    f.savefig(\"mnist_1l_pca_rep.png\")"
   ]
  },
  {
   "cell_type": "code",
   "execution_count": null,
   "metadata": {
    "colab": {
     "base_uri": "https://localhost:8080/",
     "height": 539
    },
    "colab_type": "code",
    "id": "CEFSl2MPsOId",
    "outputId": "abcb3a3b-8b49-4ae7-af0b-2449ef7021d9"
   },
   "outputs": [],
   "source": [
    "def reconstruct(Q, i):\n",
    "    print(i)\n",
    "    y = m.predict_y(GPLVM_X_mean[i].reshape(1,Q))[0]\n",
    "\n",
    "    plt.imshow(y.reshape(28,28))\n",
    "    plt.figure()\n",
    "    plt.imshow(Y[i].reshape(28,28))\n",
    "\n",
    "reconstruct(Q, i=np.random.randint(0,100))"
   ]
  },
  {
   "cell_type": "markdown",
   "metadata": {
    "colab_type": "text",
    "id": "KB80RTt53v-h"
   },
   "source": [
    "### Deep Model  Implementation"
   ]
  },
  {
   "cell_type": "code",
   "execution_count": null,
   "metadata": {
    "colab": {
     "base_uri": "https://localhost:8080/",
     "height": 384
    },
    "colab_type": "code",
    "id": "N6sKj_wp6HnA",
    "outputId": "d5c1eec6-5956-4833-820f-f794b8427629"
   },
   "outputs": [],
   "source": [
    "dgp = DeepGPLVM(kernel_dims = [10,5], n_layers = 2, max_iters=300, latent_dims = [20, 5], inducing_pts=[20,20])\n",
    "Y = x_5.astype(np.float64)\n",
    "dgp.train(Y)"
   ]
  },
  {
   "cell_type": "code",
   "execution_count": null,
   "metadata": {
    "colab": {
     "base_uri": "https://localhost:8080/",
     "height": 445
    },
    "colab_type": "code",
    "id": "3b2JcAnRFndH",
    "outputId": "63d9ebdd-de90-4762-932f-78dc9c45cb30"
   },
   "outputs": [],
   "source": [
    "sens = dgp.get_sensitivities()[0]\n",
    "dim1, dim2 = sens.argsort()[::-1][:2] \n",
    "XPCAplot = gpflow.models.PCA_reduce(Y, 2)\n",
    "dgp_mean = dgp.means\n",
    "\n",
    "f, ax = plt.subplots(1,2, figsize=(10,6))\n",
    "colors = cm.rainbow(np.linspace(0, 1, len(np.unique(l_5))))\n",
    "\n",
    "for i, c in zip(np.unique(labels), colors):\n",
    "    ax[0].scatter(XPCAplot[l_5==i, 0], XPCAplot[l_5==i, 1], color=c, label=i, alpha = 0.2)\n",
    "    ax[0].set_title('PCA')\n",
    "    ax[1].scatter(dgp_mean[l_5==i, dim1], dgp_mean[l_5==i, dim2], color=c, label=i, alpha = 0.2)\n",
    "    ax[1].set_title('deep Bayesian GPLVM')\n",
    "    f.savefig(\"mnist_2l_pca_rep.png\")"
   ]
  },
  {
   "cell_type": "code",
   "execution_count": null,
   "metadata": {
    "colab": {
     "base_uri": "https://localhost:8080/",
     "height": 539
    },
    "colab_type": "code",
    "id": "wLM5ERbQNf3q",
    "outputId": "04b14810-056a-4a26-de74-5008b746f63e"
   },
   "outputs": [],
   "source": [
    "# GPLVM_X_mean = m.X_mean.read_value()\n",
    "# recon = dgp.reconstruct(GPLVM_X_mean[6].reshape(1,Q))\n",
    "i = np.random.randint(0,100)\n",
    "recon = dgp.reconstruct(i)\n",
    "plt.figure()\n",
    "plt.imshow(recon.reshape(28,28))\n",
    "plt.savefig(\"test1.png\")\n",
    "plt.figure()\n",
    "plt.imshow(Y[i].reshape(28,28))"
   ]
  },
  {
   "cell_type": "code",
   "execution_count": null,
   "metadata": {
    "colab": {},
    "colab_type": "code",
    "id": "GcHpAsDqwikj"
   },
   "outputs": [],
   "source": [
    "# from google.colab import files\n",
    "# files.download(\"test.png\")"
   ]
  },
  {
   "cell_type": "code",
   "execution_count": null,
   "metadata": {
    "colab": {
     "base_uri": "https://localhost:8080/",
     "height": 602
    },
    "colab_type": "code",
    "id": "R0bLY8pxvEZq",
    "outputId": "b9117351-686d-4d9b-f548-4d16e34284aa"
   },
   "outputs": [],
   "source": [
    "idxs = np.random.randint(0, Y.shape[0],10)#np.random.permutation(dgp.means)[:10]\n",
    "\n",
    "# random_sample = dgp.means[idxs]\n",
    "\n",
    "plt.figure()\n",
    "for i, idx in enumerate(idxs,1):\n",
    "#     rec= m.reconstruct(idx)\n",
    "    rec = dgp.reconstruct(idx)\n",
    "    plt.subplot(2,5,i)\n",
    "#     print(rec.shape)\n",
    "    plt.imshow(rec.flatten().reshape(28, 28))\n",
    "    plt.axis(\"off\")\n",
    "plt.savefig(\"mnist_2l_recon.png\")\n",
    "\n",
    "plt.figure()\n",
    "for i, y in enumerate(Y[idxs],1):\n",
    "    plt.subplot(2,5,i)\n",
    "    plt.axis(\"off\")\n",
    "    plt.imshow(y.flatten().reshape(28, 28))\n",
    "\n",
    "plt.savefig(\"mnist_orig.png\")\n",
    "plt.figure()\n",
    "for i, idx in enumerate(idxs, 1):\n",
    "    plt.subplot(2,5,i)\n",
    "    plt.axis(\"off\")\n",
    "    plt.imshow(dgp.means[idx].flatten().reshape(1,5))\n",
    "plt.savefig(\"mnist_repn_2l.png\")"
   ]
  },
  {
   "cell_type": "code",
   "execution_count": null,
   "metadata": {
    "colab": {
     "base_uri": "https://localhost:8080/",
     "height": 603
    },
    "colab_type": "code",
    "id": "BBahoWlZzuCH",
    "outputId": "5d16e6e7-0a4a-4ea5-e24e-7be0e07f81cc"
   },
   "outputs": [],
   "source": [
    "plt.figure()\n",
    "for i, idx in enumerate(idxs,1):\n",
    "    rec= m.predict_y(GPLVM_X_mean[idx].reshape(1,5))[0]\n",
    "    plt.subplot(2,5,i)\n",
    "    plt.axis(\"off\")\n",
    "    plt.imshow(rec.flatten().reshape(28, 28))\n",
    "plt.savefig(\"mnist_1l_recon.png\")\n",
    "plt.figure()\n",
    "for i, y in enumerate(Y[idxs],1):\n",
    "    plt.subplot(2,5,i)\n",
    "    plt.imshow(y.flatten().reshape(28, 28))\n",
    "\n",
    "    \n",
    "plt.figure()\n",
    "for i, idx in enumerate(idxs, 1):\n",
    "    plt.subplot(2,5,i)\n",
    "    plt.axis(\"off\")\n",
    "    plt.imshow(GPLVM_X_mean[idx].flatten().reshape(1,5))\n",
    "plt.savefig(\"mnist_repn_1l.png\")"
   ]
  },
  {
   "cell_type": "code",
   "execution_count": null,
   "metadata": {
    "colab": {
     "base_uri": "https://localhost:8080/",
     "height": 35
    },
    "colab_type": "code",
    "id": "oR9q-21dvyWw",
    "outputId": "290b3d4e-f0a0-4e41-c4f6-a424e3d8027a"
   },
   "outputs": [],
   "source": [
    "dgp.reconstructon_error(Y)"
   ]
  },
  {
   "cell_type": "code",
   "execution_count": null,
   "metadata": {
    "colab": {
     "base_uri": "https://localhost:8080/",
     "height": 287
    },
    "colab_type": "code",
    "id": "l2MGU21kzjWL",
    "outputId": "10b40384-961a-435f-e0ed-10fcf31e766e"
   },
   "outputs": [],
   "source": [
    "test = np.random.randn(dgp.latent_dims[-1]).reshape(1, dgp.latent_dims[-1])\n",
    "# for model in reversed(dgp.models):\n",
    "#     x_recon = model.predict_y(test)[0]\n",
    "#     x_mean = x_recon\n",
    "recon = dgp.reconstruct_from_input(test)\n",
    "plt.imshow(recon.flatten().reshape(28,28))"
   ]
  },
  {
   "cell_type": "code",
   "execution_count": null,
   "metadata": {
    "colab": {
     "base_uri": "https://localhost:8080/",
     "height": 313
    },
    "colab_type": "code",
    "id": "lKrRrQYBxSDg",
    "outputId": "5419f03d-6624-42b4-b892-8007cf349d91"
   },
   "outputs": [],
   "source": [
    "kern = dgp.models[1].kern#.kernels[0]\n",
    "sens = np.sqrt(kern.variance.read_value())/kern.lengthscales.read_value()\n",
    "print(sens)\n",
    "fig, ax = plt.subplots()\n",
    "dims = np.arange(len(sens))\n",
    "ax.bar(dims, sens, 0.2, color='y')\n",
    "ax.set_xticks(dims)\n",
    "ax.set_xlabel('dimension')\n",
    "ax.set_title('Sensitivity to latent inputs');\n",
    "plt.savefig(\"mnist_2l_latent_sens.png\")"
   ]
  },
  {
   "cell_type": "code",
   "execution_count": null,
   "metadata": {
    "colab": {},
    "colab_type": "code",
    "id": "N_7cq_NmqktK"
   },
   "outputs": [],
   "source": [
    "# dgp.get_sensitivities(plot = True)"
   ]
  },
  {
   "cell_type": "code",
   "execution_count": null,
   "metadata": {
    "colab": {},
    "colab_type": "code",
    "id": "dHDGFgN4q5h9"
   },
   "outputs": [],
   "source": [
    "layers = [1, 2]\n",
    "dim_list = [[[5], [10], [20]], [[10, 5], [10, 10], [20, 10]]]\n",
    "inducing_pts = [[10, 20, 40], [[20, 20], [20, 10], [10, 10]]]\n"
   ]
  },
  {
   "cell_type": "markdown",
   "metadata": {
    "colab_type": "text",
    "id": "wD7Ec14Y1vAz"
   },
   "source": [
    "# frey faces"
   ]
  },
  {
   "cell_type": "code",
   "execution_count": null,
   "metadata": {
    "colab": {
     "base_uri": "https://localhost:8080/",
     "height": 311
    },
    "colab_type": "code",
    "id": "MeMm_CNoskQ_",
    "outputId": "6a1a60d9-95fe-410f-8a43-847fd73eb239"
   },
   "outputs": [],
   "source": [
    "! wget \"http://www.cs.nyu.edu/~roweis/data/frey_rawface.mat\" > frey.mat"
   ]
  },
  {
   "cell_type": "code",
   "execution_count": null,
   "metadata": {
    "colab": {
     "base_uri": "https://localhost:8080/",
     "height": 35
    },
    "colab_type": "code",
    "id": "ItoUamF-tp_b",
    "outputId": "afd54949-17b6-4470-bdb0-d46cfba1c688"
   },
   "outputs": [],
   "source": [
    "! ls"
   ]
  },
  {
   "cell_type": "code",
   "execution_count": null,
   "metadata": {
    "colab": {
     "base_uri": "https://localhost:8080/",
     "height": 35
    },
    "colab_type": "code",
    "id": "RTIND7ats57e",
    "outputId": "5256cb35-4fd5-4b0e-c75f-402877f3e5f5"
   },
   "outputs": [],
   "source": [
    "from scipy import io as spio\n",
    "data = spio.loadmat(\"frey_rawface.mat\")\n",
    "faces = data['ff'].T\n",
    "faces = faces.astype(np.float32)/255\n",
    "faces.shape"
   ]
  },
  {
   "cell_type": "code",
   "execution_count": null,
   "metadata": {
    "colab": {
     "base_uri": "https://localhost:8080/",
     "height": 269
    },
    "colab_type": "code",
    "id": "tIgWiIyztC-k",
    "outputId": "3205771f-771b-4ee7-dc12-4feb22a1a623"
   },
   "outputs": [],
   "source": [
    "for i in range(100):\n",
    "    plt.subplot(10,10,i+1)\n",
    "    plt.axis(\"off\")\n",
    "    plt.imshow(faces[i, :].reshape(28, 20))\n"
   ]
  },
  {
   "cell_type": "code",
   "execution_count": null,
   "metadata": {
    "colab": {},
    "colab_type": "code",
    "id": "WEAoPTvcxXWZ"
   },
   "outputs": [],
   "source": [
    "idxs = np.random.randint(0, faces.shape[0], 200)\n",
    "subset = faces[idxs, :]"
   ]
  },
  {
   "cell_type": "code",
   "execution_count": null,
   "metadata": {
    "colab": {
     "base_uri": "https://localhost:8080/",
     "height": 384
    },
    "colab_type": "code",
    "id": "UBCod2H4vMi_",
    "outputId": "856acc91-7a24-4958-da06-3f7d5545800f"
   },
   "outputs": [],
   "source": [
    "dgp_f = DeepGPLVM(kernel_dims = [5, 3], n_layers = 2, max_iters=50, latent_dims = [10, 3], inducing_pts=[20, 20])\n",
    "Y = subset.astype(np.float64)\n",
    "dgp_f.train(Y)"
   ]
  },
  {
   "cell_type": "code",
   "execution_count": null,
   "metadata": {
    "colab": {
     "base_uri": "https://localhost:8080/",
     "height": 731
    },
    "colab_type": "code",
    "id": "_y9pFTuZx7ZZ",
    "outputId": "4557a930-09b3-4bd9-f505-3337413bd93b"
   },
   "outputs": [],
   "source": [
    "idxs = np.random.randint(0, Y.shape[0],10)#np.random.permutation(dgp.means)[:10]\n",
    "\n",
    "# random_sample = dgp.means[idxs]\n",
    "\n",
    "plt.figure()\n",
    "for i, idx in enumerate(idxs,1):\n",
    "#     rec= m.reconstruct(idx)\n",
    "    rec = dgp_f.reconstruct(idx)\n",
    "    plt.subplot(2,5,i)\n",
    "#     print(rec.shape)\n",
    "    plt.axis(\"off\")\n",
    "    plt.imshow(rec.flatten().reshape(28, 20))\n",
    "plt.savefig(\"frey_recon_2l.png\")\n",
    "\n",
    "plt.figure()\n",
    "for i, y in enumerate(Y[idxs],1):\n",
    "    plt.subplot(2,5,i)\n",
    "    plt.axis(\"off\")\n",
    "    plt.imshow(y.flatten().reshape(28, 20))\n",
    "plt.savefig(\"frey_orig_2l.png\")\n",
    "\n",
    "    \n",
    "plt.figure()\n",
    "for i, idx in enumerate(idxs, 1):\n",
    "    plt.subplot(2,5,i)\n",
    "    plt.axis(\"off\")\n",
    "    plt.imshow(dgp_f.means[idx].flatten().reshape(3, 1))\n",
    "plt.savefig(\"frey_2l_rep.png\")"
   ]
  },
  {
   "cell_type": "code",
   "execution_count": null,
   "metadata": {
    "colab": {
     "base_uri": "https://localhost:8080/",
     "height": 35
    },
    "colab_type": "code",
    "id": "_i6AXUA3u7Xr",
    "outputId": "4ee4ef9a-a932-4888-da80-d494946e955b"
   },
   "outputs": [],
   "source": [
    "dgp_f.reconstructon_error(Y)"
   ]
  },
  {
   "cell_type": "code",
   "execution_count": null,
   "metadata": {
    "colab": {
     "base_uri": "https://localhost:8080/",
     "height": 218
    },
    "colab_type": "code",
    "id": "gJleXhZSPC9T",
    "outputId": "132f9b51-879c-4dac-ab4e-0a25d36b9252"
   },
   "outputs": [],
   "source": [
    "steps = np.arange(-3, 3, 0.5)\n",
    "for i in range(3):\n",
    "    plt.figure()\n",
    "    for j, s in enumerate(steps):\n",
    "        \n",
    "        test = np.zeros((1,3))\n",
    "        test[0][i] += s\n",
    "        recon = dgp_f.reconstruct_from_input(test)\n",
    "        plt.subplot(1, 12, j + 1 )\n",
    "        plt.axis(\"off\")\n",
    "        plt.imshow(recon.reshape(28, 20))\n",
    "        plt.savefig(\"frey_feature_{0}_trend_2l.png\".format(i))"
   ]
  },
  {
   "cell_type": "code",
   "execution_count": null,
   "metadata": {
    "colab": {
     "base_uri": "https://localhost:8080/",
     "height": 568
    },
    "colab_type": "code",
    "id": "FbyN4urHR3Fq",
    "outputId": "54f890e1-8c06-4726-eb97-8f2dbec6155a"
   },
   "outputs": [],
   "source": [
    "dgp_f3 = DeepGPLVM(kernel_dims = [5, 5, 3], n_layers = 3, max_iters=50, latent_dims = [10, 5, 3], inducing_pts=[20, 20, 20])\n",
    "Y = subset.astype(np.float64)\n",
    "dgp_f3.train(Y)"
   ]
  },
  {
   "cell_type": "code",
   "execution_count": null,
   "metadata": {
    "colab": {
     "base_uri": "https://localhost:8080/",
     "height": 731
    },
    "colab_type": "code",
    "id": "jnz9YPLbSCu6",
    "outputId": "7f737728-6ef3-49e5-e67f-db93851f32e0"
   },
   "outputs": [],
   "source": [
    "idxs = np.random.randint(0, Y.shape[0],10)#np.random.permutation(dgp.means)[:10]\n",
    "\n",
    "# random_sample = dgp.means[idxs]\n",
    "\n",
    "plt.figure()\n",
    "for i, idx in enumerate(idxs,1):\n",
    "#     rec= m.reconstruct(idx)\n",
    "    rec = dgp_f.reconstruct(idx)\n",
    "    plt.subplot(2,5,i)\n",
    "#     print(rec.shape)\n",
    "    plt.axis(\"off\")\n",
    "    plt.imshow(rec.flatten().reshape(28, 20))\n",
    "plt.savefig(\"frey_3l_recon.png\")\n",
    "plt.figure()\n",
    "for i, y in enumerate(Y[idxs],1):\n",
    "    plt.subplot(2,5,i)\n",
    "    plt.axis(\"off\")\n",
    "    plt.imshow(y.flatten().reshape(28, 20))\n",
    "\n",
    "plt.savefig(\"frey_orig_3l.png\")\n",
    "plt.figure()\n",
    "for i, idx in enumerate(idxs, 1):\n",
    "    plt.subplot(2,5,i)\n",
    "    plt.axis(\"off\")\n",
    "    plt.imshow(dgp_f.means[idx].flatten().reshape(3, 1))\n",
    "plt.savefig(\"frey_3l_rep.png\")"
   ]
  },
  {
   "cell_type": "code",
   "execution_count": null,
   "metadata": {
    "colab": {
     "base_uri": "https://localhost:8080/",
     "height": 218
    },
    "colab_type": "code",
    "id": "PsyuVSr_SGls",
    "outputId": "9a8a3661-415f-47b2-a6de-a62bca07eba5"
   },
   "outputs": [],
   "source": [
    "steps = np.arange(-3, 3, 0.5)\n",
    "for i in range(3):\n",
    "    plt.figure()\n",
    "    for j, s in enumerate(steps):\n",
    "        \n",
    "        test = np.zeros((1,3))\n",
    "        test[0][i] += s\n",
    "        recon = dgp_f.reconstruct_from_input(test)\n",
    "        plt.subplot(1, 12, j + 1 )\n",
    "        plt.axis(\"off\")\n",
    "        plt.imshow(recon.reshape(28, 20))\n",
    "        plt.savefig(\"frey_feature_{0}_trend_3l.png\".format(i))\n",
    "        "
   ]
  },
  {
   "cell_type": "code",
   "execution_count": null,
   "metadata": {
    "colab": {
     "base_uri": "https://localhost:8080/",
     "height": 403
    },
    "colab_type": "code",
    "id": "-cydDsrJvQs9",
    "outputId": "e094b665-712e-4c52-9602-cc90bbae0f93"
   },
   "outputs": [],
   "source": [
    "dgp2 = DeepGPLVM(kernel_dims = [10,5], n_layers = 2, max_iters=100, latent_dims = [10, 5], inducing_pts=[20, 20])\n",
    "Y = subset.astype(np.float64)\n",
    "dgp2.train(Y)\n",
    "dgp2.reconstructon_error(Y)"
   ]
  },
  {
   "cell_type": "code",
   "execution_count": null,
   "metadata": {
    "colab": {
     "base_uri": "https://localhost:8080/",
     "height": 737
    },
    "colab_type": "code",
    "id": "1l0BuYh-yPPp",
    "outputId": "7e192e18-9dc5-481f-8242-5492b336cb36"
   },
   "outputs": [],
   "source": [
    "# random_sample = dgp.means[idxs]\n",
    "\n",
    "plt.figure()\n",
    "for i, idx in enumerate(idxs,1):\n",
    "#     rec= m.reconstruct(idx)\n",
    "    rec = dgp2.reconstruct(idx)\n",
    "    plt.subplot(2,5,i)\n",
    "#     print(rec.shape)\n",
    "    plt.imshow(rec.flatten().reshape(28, 20))\n",
    "\n",
    "plt.figure()\n",
    "for i, y in enumerate(Y[idxs],1):\n",
    "    plt.subplot(2,5,i)\n",
    "    plt.imshow(y.flatten().reshape(28, 20))\n",
    "\n",
    "    \n",
    "plt.figure()\n",
    "for i, idx in enumerate(idxs, 1):\n",
    "    plt.subplot(2,5,i)\n",
    "    plt.imshow(dgp2.means[idx].flatten().reshape(5, 1))"
   ]
  },
  {
   "cell_type": "code",
   "execution_count": null,
   "metadata": {
    "colab": {
     "base_uri": "https://localhost:8080/",
     "height": 352
    },
    "colab_type": "code",
    "id": "39iSD4MGDt11",
    "outputId": "d48c0508-1651-4a1f-ca40-34c52d1396aa"
   },
   "outputs": [],
   "source": [
    "steps = np.arange(-3, 3, 0.5)\n",
    "for i in range(5):\n",
    "    plt.figure()\n",
    "    for j, s in enumerate(steps):\n",
    "        \n",
    "        test = np.zeros((1,5))\n",
    "        test[0][i] += s\n",
    "        recon = dgp2.reconstruct_from_input(test)\n",
    "        plt.subplot(1, 12, j + 1 )\n",
    "        plt.axis(\"off\")\n",
    "        plt.imshow(recon.reshape(28, 20))"
   ]
  },
  {
   "cell_type": "markdown",
   "metadata": {
    "colab_type": "text",
    "id": "2SOD3Ce_4DWE"
   },
   "source": [
    "### Downstream classification accuracy comparison (MNIST)"
   ]
  },
  {
   "cell_type": "code",
   "execution_count": null,
   "metadata": {
    "colab": {
     "base_uri": "https://localhost:8080/",
     "height": 35
    },
    "colab_type": "code",
    "id": "mJAiepZOdP5l",
    "outputId": "565aef8f-d38a-4811-fe50-b83496b1bd9c"
   },
   "outputs": [],
   "source": [
    "XPCA = gpflow.models.PCA_reduce(Y, 5)\n",
    "results = []\n",
    "for i in tqdm(range(500)):\n",
    "    trn_idxs, test_idxs = get_idxs(x_5.shape[0])\n",
    "    a1 = classifier_on_data(x_5, l_5, trn_idxs, test_idxs)\n",
    "    a2 = classifier_on_data(XPCA, l_5, trn_idxs, test_idxs)\n",
    "    a3 = classifier_on_data(GPLVM_X_mean, l_5, trn_idxs, test_idxs)\n",
    "    a4 = classifier_on_data(dgp.means, l_5, trn_idxs, test_idxs)\n",
    "    \n",
    "    results.append([a1, a2, a3, a4])\n",
    "\n",
    "results = np.array(results)"
   ]
  },
  {
   "cell_type": "code",
   "execution_count": null,
   "metadata": {
    "colab": {
     "base_uri": "https://localhost:8080/",
     "height": 283
    },
    "colab_type": "code",
    "id": "KhGJOtCYefc6",
    "outputId": "e9381429-c518-4da9-b755-10745bcddf92"
   },
   "outputs": [],
   "source": [
    "_ = plt.boxplot(results[:, :])\n",
    "plt.xticks([1,2,3, 4], ['data', 'PCA', 'GPLVM', 'DGPLVM-2'])\n",
    "plt.xlabel('Representation')\n",
    "plt.ylabel('accuracy')\n",
    "plt.savefig(\"boxplot_mnist.png\")"
   ]
  },
  {
   "cell_type": "markdown",
   "metadata": {},
   "source": [
    "### Classification accuracy on oil flow dataset"
   ]
  },
  {
   "cell_type": "code",
   "execution_count": null,
   "metadata": {
    "colab": {},
    "colab_type": "code",
    "id": "5dg3CWHDsOGr",
    "scrolled": true
   },
   "outputs": [],
   "source": [
    "dgp_oil = DeepGPLVM(kernel_dims = [10,5], n_layers = 2, max_iters=2000, latent_dims = [10, 5], inducing_pts=[20,20])\n",
    "dgp_oil.train(Y)"
   ]
  },
  {
   "cell_type": "code",
   "execution_count": null,
   "metadata": {},
   "outputs": [],
   "source": [
    "XPCAplot = gpflow.models.PCA_reduce(Y, 2)\n",
    "GPLVM_X_mean = m.X_mean.read_value()\n",
    "\n",
    "f, ax = plt.subplots(1,2, figsize=(10,6))\n",
    "colors = cm.rainbow(np.linspace(0, 1, len(np.unique(labels))))\n",
    "\n",
    "for i, c in zip(np.unique(labels), colors):\n",
    "    ax[0].scatter(XPCAplot[labels==i, 0], XPCAplot[labels==i, 1], color=c, label=i)\n",
    "    ax[0].set_title('PCA')\n",
    "    ax[1].scatter(dgp_oil.means[labels==i, dim1], dgp_oil.means[labels==i, dim2], color=c, label=i)\n",
    "    ax[1].set_title('Bayesian GPLVM')\n",
    "plt.savefig(\"oil_pca_rep_2l.png\")"
   ]
  },
  {
   "cell_type": "code",
   "execution_count": null,
   "metadata": {
    "colab": {},
    "colab_type": "code",
    "id": "AErGWfvkh2-P"
   },
   "outputs": [],
   "source": [
    "XPCA = gpflow.models.PCA_reduce(Y, 5)\n",
    "from tqdm import tqdm\n",
    "results = []\n",
    "labels = np.array(labels)\n",
    "for i in tqdm(range(100)):\n",
    "    trn_idxs, test_idxs = get_idxs(Y.shape[0])\n",
    "    a1 = classifier_on_data(Y, labels, trn_idxs, test_idxs)\n",
    "    a2 = classifier_on_data(XPCA, labels, trn_idxs, test_idxs)\n",
    "    a3 = classifier_on_data(GPLVM_X_mean, labels, trn_idxs, test_idxs)\n",
    "    a4 = classifier_on_data(dgp_oil.means, labels, trn_idxs, test_idxs)\n",
    "    \n",
    "    results.append([a1, a2, a3, a4])\n",
    "\n",
    "results = np.array(results)"
   ]
  },
  {
   "cell_type": "code",
   "execution_count": null,
   "metadata": {},
   "outputs": [],
   "source": [
    "_ = plt.boxplot(results[:, :-1])\n",
    "plt.xticks([1,2,3], ['data', 'PCA', 'GPLVM'])\n",
    "plt.xlabel('Representation')\n",
    "plt.ylabel('accuracy')\n",
    "plt.savefig(\"boxplot_oil.png\")"
   ]
  }
 ],
 "metadata": {
  "accelerator": "GPU",
  "colab": {
   "collapsed_sections": [],
   "name": "Representation learning using Gaussian Process.ipynb",
   "provenance": [],
   "version": "0.3.2"
  },
  "kernelspec": {
   "display_name": "Python 3",
   "language": "python",
   "name": "python3"
  },
  "language_info": {
   "codemirror_mode": {
    "name": "ipython",
    "version": 3
   },
   "file_extension": ".py",
   "mimetype": "text/x-python",
   "name": "python",
   "nbconvert_exporter": "python",
   "pygments_lexer": "ipython3",
   "version": "3.6.8"
  }
 },
 "nbformat": 4,
 "nbformat_minor": 1
}
